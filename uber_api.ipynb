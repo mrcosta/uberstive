{
 "cells": [
  {
   "cell_type": "code",
   "execution_count": 29,
   "metadata": {
    "collapsed": false
   },
   "outputs": [
    {
     "name": "stdout",
     "output_type": "stream",
     "text": [
      "https://login.uber.com/oauth/authorize?redirect_uri=http%3A%2F%2Flocalhost%3A5000&client_id=EsBJfHieCNX8wIGVrYCjvB0o-iIZf78Y&scope=profile&response_type=code\n"
     ]
    }
   ],
   "source": [
    "from rauth import OAuth2Service\n",
    "import requests\n",
    "\n",
    "uber_api = OAuth2Service(\n",
    "     client_id='EsBJfHieCNX8wIGVrYCjvB0o-iIZf78Y',\n",
    "     client_secret='WPrvB3CRxggnHXWqzdGKPbyohJCpkyj7epBAp7FU',\n",
    "     name='stive',\n",
    "     authorize_url='https://login.uber.com/oauth/authorize',\n",
    "     access_token_url='https://login.uber.com/oauth/token',\n",
    "     base_url='https://api.uber.com/v1/',\n",
    " )\n",
    "\n",
    "parameters = {\n",
    "    'response_type': 'code',\n",
    "    'redirect_uri': 'http://localhost:5000',\n",
    "    'scope': 'profile',\n",
    "}\n",
    "\n",
    "#### Redirect user here to authorize your application\n",
    "login_url = uber_api.get_authorize_url(**parameters)\n",
    "\n",
    "print(login_url)\n",
    "\n",
    "\n",
    "\n",
    "\n"
   ]
  },
  {
   "cell_type": "code",
   "execution_count": 12,
   "metadata": {
    "collapsed": false
   },
   "outputs": [
    {
     "name": "stdout",
     "output_type": "stream",
     "text": [
      "{'products': [{'capacity': 2, 'description': 'Share the ride, split the cost.', 'shared': True, 'display_name': 'POOL', 'product_id': '26546650-e557-4a7b-86e7-6a3942445247', 'price_details': None, 'cash_enabled': False, 'short_description': 'POOL', 'image': 'http://d1a3f4spazzrp4.cloudfront.net/car-types/mono/mono-uberx.png'}, {'capacity': 4, 'description': 'THE LOW-COST UBER', 'shared': False, 'display_name': 'uberX', 'product_id': 'a1111c8c-c720-46c3-8534-2fcdd730040d', 'price_details': {'service_fees': [{'fee': 1.55, 'name': 'Booking fee'}], 'cost_per_distance': 1.15, 'currency_code': 'USD', 'base': 2.0, 'cost_per_minute': 0.22, 'distance_unit': 'mile', 'minimum': 6.55, 'cancellation_fee': 5.0}, 'cash_enabled': False, 'short_description': 'uberX', 'image': 'http://d1a3f4spazzrp4.cloudfront.net/car-types/mono/mono-uberx.png'}, {'capacity': 6, 'description': 'LOW-COST RIDES FOR LARGE GROUPS', 'shared': False, 'display_name': 'uberXL', 'product_id': '821415d8-3bd5-4e27-9604-194e4359a449', 'price_details': {'service_fees': [{'fee': 1.55, 'name': 'Booking fee'}], 'cost_per_distance': 2.0, 'currency_code': 'USD', 'base': 3.0, 'cost_per_minute': 0.3, 'distance_unit': 'mile', 'minimum': 8.55, 'cancellation_fee': 5.0}, 'cash_enabled': False, 'short_description': 'uberXL', 'image': 'http://d1a3f4spazzrp4.cloudfront.net/car-types/mono/mono-uberxl2.png'}, {'capacity': 4, 'description': 'A STEP ABOVE THE EVERY DAY', 'shared': False, 'display_name': 'SELECT', 'product_id': '57c0ff4e-1493-4ef9-a4df-6b961525cf92', 'price_details': {'service_fees': [{'fee': 1.55, 'name': 'Booking fee'}], 'cost_per_distance': 2.75, 'currency_code': 'USD', 'base': 5.0, 'cost_per_minute': 0.5, 'distance_unit': 'mile', 'minimum': 10.55, 'cancellation_fee': 5.0}, 'cash_enabled': False, 'short_description': 'SELECT', 'image': 'http://d1a3f4spazzrp4.cloudfront.net/car-types/mono/mono-uberselect.png'}, {'capacity': 4, 'description': 'THE ORIGINAL UBER', 'shared': False, 'display_name': 'BLACK', 'product_id': 'd4abaae7-f4d6-4152-91cc-77523e8165a4', 'price_details': {'service_fees': [], 'cost_per_distance': 3.75, 'currency_code': 'USD', 'base': 8.0, 'cost_per_minute': 0.65, 'distance_unit': 'mile', 'minimum': 15.0, 'cancellation_fee': 10.0}, 'cash_enabled': False, 'short_description': 'BLACK', 'image': 'http://d1a3f4spazzrp4.cloudfront.net/car-types/mono/mono-black.png'}, {'capacity': 6, 'description': 'ROOM FOR EVERYONE', 'shared': False, 'display_name': 'SUV', 'product_id': '8920cb5e-51a4-4fa4-acdf-dd86c5e18ae0', 'price_details': {'service_fees': [], 'cost_per_distance': 3.75, 'currency_code': 'USD', 'base': 15.0, 'cost_per_minute': 0.9, 'distance_unit': 'mile', 'minimum': 25.0, 'cancellation_fee': 10.0}, 'cash_enabled': False, 'short_description': 'SUV', 'image': 'http://d1a3f4spazzrp4.cloudfront.net/car-types/mono/mono-suv.png'}, {'capacity': 4, 'description': 'uberX with extra assistance', 'shared': False, 'display_name': 'ASSIST', 'product_id': 'ff5ed8fe-6585-4803-be13-3ca541235de3', 'price_details': {'service_fees': [{'fee': 1.55, 'name': 'Booking fee'}], 'cost_per_distance': 1.15, 'currency_code': 'USD', 'base': 2.0, 'cost_per_minute': 0.22, 'distance_unit': 'mile', 'minimum': 6.55, 'cancellation_fee': 5.0}, 'cash_enabled': False, 'short_description': 'ASSIST', 'image': 'http://d1a3f4spazzrp4.cloudfront.net/car-types/mono/mono-uberx.png'}, {'capacity': 4, 'description': 'WHEELCHAIR ACCESSIBLE VEHICLES', 'shared': False, 'display_name': 'WAV', 'product_id': '2832a1f5-cfc0-48bb-ab76-7ea7a62060e7', 'price_details': {'service_fees': [{'fee': 1.55, 'name': 'Booking fee'}], 'cost_per_distance': 2.15, 'currency_code': 'USD', 'base': 5.0, 'cost_per_minute': 0.45, 'distance_unit': 'mile', 'minimum': 8.55, 'cancellation_fee': 5.0}, 'cash_enabled': False, 'short_description': 'WAV', 'image': 'http://d1a3f4spazzrp4.cloudfront.net/car-types/mono/mono-wheelchair.png'}, {'capacity': 4, 'description': 'TAXI WITHOUT THE HASSLE', 'shared': False, 'display_name': 'TAXI', 'product_id': '3ab64887-4842-4c8e-9780-ccecd3a0391d', 'price_details': None, 'cash_enabled': False, 'short_description': 'TAXI', 'image': 'http://d1a3f4spazzrp4.cloudfront.net/car-types/mono/mono-taxi.png'}]}\n"
     ]
    }
   ],
   "source": [
    "import requests\n",
    "\n",
    "url = 'https://api.uber.com/v1/products'\n",
    "\n",
    "parameters = {\n",
    "    'server_token': '1RbtuHelxVQ34PfPqu3xlnLW4Sip3yktGlIS4I95',\n",
    "    'latitude': 37.775818,\n",
    "    'longitude': -122.418028,\n",
    "}\n",
    "\n",
    "response = requests.get(url, params=parameters)\n",
    "\n",
    "data = response.json()\n",
    "\n",
    "print(data)"
   ]
  },
  {
   "cell_type": "code",
   "execution_count": null,
   "metadata": {
    "collapsed": true
   },
   "outputs": [],
   "source": []
  }
 ],
 "metadata": {
  "kernelspec": {
   "display_name": "Python 3",
   "language": "python",
   "name": "python3"
  },
  "language_info": {
   "codemirror_mode": {
    "name": "ipython",
    "version": 3
   },
   "file_extension": ".py",
   "mimetype": "text/x-python",
   "name": "python",
   "nbconvert_exporter": "python",
   "pygments_lexer": "ipython3",
   "version": "3.5.1"
  }
 },
 "nbformat": 4,
 "nbformat_minor": 1
}
